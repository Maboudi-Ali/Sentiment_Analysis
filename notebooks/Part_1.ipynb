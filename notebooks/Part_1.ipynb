{
 "cells": [
  {
   "cell_type": "markdown",
   "id": "b3e365c1",
   "metadata": {},
   "source": [
    "<h2 align=right style=\"line-height:200%;font-family:vazir;color:#0099cc\">\n",
    "<font face=\"vazir\">بخش ۱) تجزیه و تحلیل اولیه از داده‌ها</font>\n",
    "</h2>\n",
    "\n",
    "<p dir=rtl style=\"direction: rtl;text-align: justify;line-height:200%;font-family:vazir;font-size:medium\">\n",
    "<font face=\"vazir\" size=3>\n",
    "در ابتدا از شما می‌خواهیم به سوالات زیر پاسخ داده تا بینش بهتری از داده‌های موجود پیدا کنید:\n",
    "</font>\n",
    "</p>"
   ]
  },
  {
   "cell_type": "code",
   "execution_count": 1,
   "id": "b1f8cacd",
   "metadata": {},
   "outputs": [],
   "source": [
    "import pandas as pd\n",
    "import numpy as np\n",
    "import matplotlib.pyplot as plt\n",
    "import seaborn as sns"
   ]
  },
  {
   "cell_type": "code",
   "execution_count": 2,
   "id": "4d5201cd",
   "metadata": {},
   "outputs": [],
   "source": [
    "sns.set_theme()"
   ]
  },
  {
   "cell_type": "code",
   "execution_count": 4,
   "id": "4cec13cf",
   "metadata": {},
   "outputs": [
    {
     "data": {
      "text/html": [
       "<div>\n",
       "<style scoped>\n",
       "    .dataframe tbody tr th:only-of-type {\n",
       "        vertical-align: middle;\n",
       "    }\n",
       "\n",
       "    .dataframe tbody tr th {\n",
       "        vertical-align: top;\n",
       "    }\n",
       "\n",
       "    .dataframe thead th {\n",
       "        text-align: right;\n",
       "    }\n",
       "</style>\n",
       "<table border=\"1\" class=\"dataframe\">\n",
       "  <thead>\n",
       "    <tr style=\"text-align: right;\">\n",
       "      <th></th>\n",
       "      <th>overall</th>\n",
       "      <th>vote</th>\n",
       "      <th>verified</th>\n",
       "      <th>reviewTime</th>\n",
       "      <th>reviewerID</th>\n",
       "      <th>asin</th>\n",
       "      <th>style</th>\n",
       "      <th>reviewerName</th>\n",
       "      <th>reviewText</th>\n",
       "      <th>summary</th>\n",
       "      <th>unixReviewTime</th>\n",
       "    </tr>\n",
       "  </thead>\n",
       "  <tbody>\n",
       "    <tr>\n",
       "      <th>0</th>\n",
       "      <td>2</td>\n",
       "      <td>NaN</td>\n",
       "      <td>False</td>\n",
       "      <td>2016-11-11</td>\n",
       "      <td>A2OSUEZJIN7BI</td>\n",
       "      <td>0511189877</td>\n",
       "      <td>NaN</td>\n",
       "      <td>Chris</td>\n",
       "      <td>I have an older URC-WR7 remote and thought thi...</td>\n",
       "      <td>Cannot Learn</td>\n",
       "      <td>1478822400</td>\n",
       "    </tr>\n",
       "    <tr>\n",
       "      <th>1</th>\n",
       "      <td>5</td>\n",
       "      <td>NaN</td>\n",
       "      <td>True</td>\n",
       "      <td>2016-06-06</td>\n",
       "      <td>A2NETQRG6JHIG7</td>\n",
       "      <td>0511189877</td>\n",
       "      <td>NaN</td>\n",
       "      <td>Qrysta White</td>\n",
       "      <td>First time I've EVER had a remote that needed ...</td>\n",
       "      <td>zero programming needed!  Miracle!?</td>\n",
       "      <td>1465171200</td>\n",
       "    </tr>\n",
       "    <tr>\n",
       "      <th>2</th>\n",
       "      <td>4</td>\n",
       "      <td>NaN</td>\n",
       "      <td>True</td>\n",
       "      <td>2016-03-10</td>\n",
       "      <td>A12JHGROAX49G7</td>\n",
       "      <td>0511189877</td>\n",
       "      <td>NaN</td>\n",
       "      <td>Linwood</td>\n",
       "      <td>Got them and only 2 of them worked. company ca...</td>\n",
       "      <td>Works Good and programs easy.</td>\n",
       "      <td>1457568000</td>\n",
       "    </tr>\n",
       "    <tr>\n",
       "      <th>3</th>\n",
       "      <td>5</td>\n",
       "      <td>NaN</td>\n",
       "      <td>True</td>\n",
       "      <td>2016-01-14</td>\n",
       "      <td>A1KV65E2TMMG6F</td>\n",
       "      <td>0511189877</td>\n",
       "      <td>NaN</td>\n",
       "      <td>Dane Williams</td>\n",
       "      <td>I got tired of the remote being on the wrong s...</td>\n",
       "      <td>Same as TWC remote</td>\n",
       "      <td>1452729600</td>\n",
       "    </tr>\n",
       "    <tr>\n",
       "      <th>4</th>\n",
       "      <td>5</td>\n",
       "      <td>NaN</td>\n",
       "      <td>True</td>\n",
       "      <td>2016-10-20</td>\n",
       "      <td>A280POPEWI0NSA</td>\n",
       "      <td>0594459451</td>\n",
       "      <td>NaN</td>\n",
       "      <td>Kristina H.</td>\n",
       "      <td>After purchasing cheap cords from another webs...</td>\n",
       "      <td>Good Quality Cord</td>\n",
       "      <td>1476921600</td>\n",
       "    </tr>\n",
       "  </tbody>\n",
       "</table>\n",
       "</div>"
      ],
      "text/plain": [
       "   overall vote  verified  reviewTime      reviewerID        asin style  \\\n",
       "0        2  NaN     False  2016-11-11   A2OSUEZJIN7BI  0511189877   NaN   \n",
       "1        5  NaN      True  2016-06-06  A2NETQRG6JHIG7  0511189877   NaN   \n",
       "2        4  NaN      True  2016-03-10  A12JHGROAX49G7  0511189877   NaN   \n",
       "3        5  NaN      True  2016-01-14  A1KV65E2TMMG6F  0511189877   NaN   \n",
       "4        5  NaN      True  2016-10-20  A280POPEWI0NSA  0594459451   NaN   \n",
       "\n",
       "    reviewerName                                         reviewText  \\\n",
       "0          Chris  I have an older URC-WR7 remote and thought thi...   \n",
       "1   Qrysta White  First time I've EVER had a remote that needed ...   \n",
       "2        Linwood  Got them and only 2 of them worked. company ca...   \n",
       "3  Dane Williams  I got tired of the remote being on the wrong s...   \n",
       "4    Kristina H.  After purchasing cheap cords from another webs...   \n",
       "\n",
       "                               summary  unixReviewTime  \n",
       "0                         Cannot Learn      1478822400  \n",
       "1  zero programming needed!  Miracle!?      1465171200  \n",
       "2        Works Good and programs easy.      1457568000  \n",
       "3                   Same as TWC remote      1452729600  \n",
       "4                    Good Quality Cord      1476921600  "
      ]
     },
     "execution_count": 4,
     "metadata": {},
     "output_type": "execute_result"
    }
   ],
   "source": [
    "train_data = pd.read_csv('../data/raw/train_data.csv', low_memory=False)\n",
    "train_data.head()"
   ]
  },
  {
   "cell_type": "markdown",
   "id": "1541fe69",
   "metadata": {
    "vscode": {
     "languageId": "plaintext"
    }
   },
   "source": [
    "#### Task 1.1"
   ]
  },
  {
   "cell_type": "markdown",
   "id": "96836dbf",
   "metadata": {
    "vscode": {
     "languageId": "plaintext"
    }
   },
   "source": [
    "<div dir='rtl'>\n",
    "توزیع ستون overall را رسم کنید. آیا مجموعه‌داده متوازن است؟ اگر خیر، آیا نیاز است برای مدل‌سازی خود آن را متوازن کنید؟ چه راه‌حلی برای این کار پیشنهاد می‌کنید؟\n",
    "</div>"
   ]
  },
  {
   "cell_type": "code",
   "execution_count": 7,
   "id": "1d4e7b73",
   "metadata": {},
   "outputs": [
    {
     "data": {
      "image/png": "[encoded data removed]",
      "text/plain": [
       "<Figure size 640x480 with 1 Axes>"
      ]
     },
     "metadata": {},
     "output_type": "display_data"
    }
   ],
   "source": [
    "train_data.overall.value_counts().sort_index().plot.barh()\n",
    "plt.title('Distribution of Overall')\n",
    "plt.show()"
   ]
  },
  {
   "cell_type": "code",
   "execution_count": null,
   "id": "ccc27aa9",
   "metadata": {},
   "outputs": [],
   "source": [
    "# Answer Questions\n",
    "# TO-DO"
   ]
  },
  {
   "cell_type": "markdown",
   "id": "05cd60ee",
   "metadata": {},
   "source": [
    "#### Task 1.2"
   ]
  },
  {
   "cell_type": "markdown",
   "id": "57a0f412",
   "metadata": {},
   "source": [
    "<div dir='rtl'>\n",
    "فرض کنید نظراتی که مقدار ستون overall آن‌ها ۴ یا ۵ است را همراه با حس مثبت، نظراتی که مقدارشان ۳ است را خنثی و نظراتی که مقدارشان ۱ یا ۲ است را حس منفی بدانیم. به‌ازای هر کدام از این سه دسته یک ابر کلمات (Word Cloud) رسم کنید تا بتوان کلمات پرتکرار هر دسته را مشاهده کرد. تا حد ممکن سعی کنید ابر کلمات به‌دست‌آمده شامل اطلاعات مفیدی باشد و کلمات زائد (Stop words) بین آن‌ها وجود نداشته باشد. آیا اشتراکی بین کلمات دسته‌ی مثبت و منفی وجود داشته است؟ چگونه آن‌ها را تفسیر می‌کنید؟\n",
    "</div>"
   ]
  },
  {
   "cell_type": "code",
   "execution_count": null,
   "id": "dc0dee5a",
   "metadata": {},
   "outputs": [],
   "source": [
    "# TO-DO"
   ]
  },
  {
   "cell_type": "markdown",
   "id": "10af4770",
   "metadata": {},
   "source": [
    "#### Task 1.3"
   ]
  },
  {
   "cell_type": "markdown",
   "id": "688b1272",
   "metadata": {},
   "source": [
    "<div dir='rtl'>\n",
    "از بین نظردهندگان، ۱۰ نفری که در مجموع نظرات‌شان بیشتر مفید واقع شده (مجموع vote بیشتری داشته‌اند) را پیدا کنید. به‌عنوان مثال اگر شخص «الف» مجموعاً ۲۰ نظر ثبت کرده باشد، باید مجموع مقدار vote تمام ۲۰ نظر وی را محاسبه کنید. این کار را برای تمام افراد انجام داده و ۱۰ نفر برتر را پیدا کنید. نام هر فرد و مجموع vote آن را به‌ترتیب نمایش دهید.\n",
    "</div>"
   ]
  },
  {
   "cell_type": "code",
   "execution_count": null,
   "id": "082832e3",
   "metadata": {},
   "outputs": [],
   "source": [
    "# TO-DO"
   ]
  },
  {
   "cell_type": "markdown",
   "id": "3b840f70",
   "metadata": {},
   "source": [
    "#### Task 1.4"
   ]
  },
  {
   "cell_type": "markdown",
   "id": "0cc4437d",
   "metadata": {},
   "source": [
    "<div dir='rtl'>\n",
    "هیستوگرام طول متن (تعداد کاراکتر) ستون reviewText را رسم کنید. یک‌بار با حالت اصلی رسم کنید و یک‌بار به‌صورت فیلترشده (آن دسته‌هایی که تعداد نمونه‌های کم و پرتی دارند را در نظر نگیرید) ترسیم کنید. انتخاب تعداد دسته‌ها (bins) برعهده‌ی خودتان است و نمودار خروجی شما باید مناسب و خوانا باشد. آیا نیاز است در هنگام مدل‌سازی محدودیتی روی تعداد کاراکترها بگذاریم؟ اگر بله، بازه‌ی پیشنهادی شما چه عددهایی است؟\n",
    "</div>"
   ]
  },
  {
   "cell_type": "code",
   "execution_count": null,
   "id": "8d2bef6f",
   "metadata": {},
   "outputs": [],
   "source": [
    "# TO-DO"
   ]
  },
  {
   "cell_type": "markdown",
   "id": "cc6902b1",
   "metadata": {},
   "source": [
    "#### Task 1.5"
   ]
  },
  {
   "cell_type": "markdown",
   "id": "379c6a77",
   "metadata": {},
   "source": [
    "<div dir='rtl'>\n",
    "کدام محصولات بیشترین امتیاز ۵ را کسب کرده‌اند؟ ۱۰ مورد برتر را به‌ترتیب به‌صورت یک جدول شامل نام برند، عنوان محصول و تعداد نظرات با امتیاز ۵ نمایش دهید.\n",
    "</div>"
   ]
  },
  {
   "cell_type": "code",
   "execution_count": null,
   "id": "37d02412",
   "metadata": {},
   "outputs": [],
   "source": [
    "# TO-DO"
   ]
  },
  {
   "cell_type": "markdown",
   "id": "99ee576b",
   "metadata": {},
   "source": [
    "#### Task 1.6"
   ]
  },
  {
   "cell_type": "markdown",
   "id": "d8414d1e",
   "metadata": {},
   "source": [
    "<div dir='rtl'>\n",
    "ابتدا ۱۰ برندی که بیشترین تعداد نظر را داشته‌اند پیدا کنید. سپس میانگین امتیاز هر کدام را محاسبه کرده و یک جدول شامل نام برند و میانگین امتیاز آن به‌ترتیب میانگین امتیاز نمایش دهید.\n",
    "</div>"
   ]
  },
  {
   "cell_type": "code",
   "execution_count": null,
   "id": "1a52fad7",
   "metadata": {},
   "outputs": [],
   "source": [
    "# TO-DO"
   ]
  }
 ],
 "metadata": {
  "kernelspec": {
   "display_name": "quera",
   "language": "python",
   "name": "python3"
  },
  "language_info": {
   "codemirror_mode": {
    "name": "ipython",
    "version": 3
   },
   "file_extension": ".py",
   "mimetype": "text/x-python",
   "name": "python",
   "nbconvert_exporter": "python",
   "pygments_lexer": "ipython3",
   "version": "3.11.13"
  }
 },
 "nbformat": 4,
 "nbformat_minor": 5
}
