{
 "cells": [
  {
   "cell_type": "markdown",
   "id": "b41b2515",
   "metadata": {},
   "source": [
    "<h2 align=right style=\"line-height:200%;font-family:vazir;color:#0099cc\">\n",
    "<font face=\"vazir\">\n",
    "بخش ۲) میزان رضایت از یک جنبه‌ی مشخص\n",
    "</font>\n",
    "</h2>\n",
    "\n",
    "<p dir=rtl style=\"direction: rtl;text-align: justify;line-height:200%;font-family:vazir;font-size:medium\">\n",
    "<font face=\"vazir\" size=3>\n",
    "<div dir='rtl'>\n",
    "فرض کنید می‌خواهیم نظراتی که در آن‌ها درباره‌ی ضمانت کالا (گارانتی، وارانتی و غیره) صحبت شده را برای هر محصول پیدا کرده و میانگین امتیاز (overall) کاربران را پیدا کنیم. این بدین معنی‌ست که قصد داریم تقریبی از میزان رضایت کاربران را درباره‌ی ضمانت کالای مربوطه به دست آوریم. یک راه ساده این است که به‌ازای هر نظر ثبت‌شده برای یک محصول دقیقاً به دنبال کلماتی مثل warranty یا guarantee بگردیم و اگر چنین کلمه‌ای وجود داشت در نتیجه در آن نظر درباره‌ی این جنبه از کالا بحث شده است. \n",
    "\n",
    "اما چنین روشی نمی‌تواند واقعا تمام داده‌های مورد نظر را پیدا کند زیرا که ممکن است در متن کاربر، کلمات مشابه یا مترادف دیگری به‌جای این کلمه استفاده شده باشد، یا حتی ممکن است فرد در نوشتار این کلمه غلط تایپی داشته باشد.   \n",
    "یک راه پیشنهادی برای حل این مسئله این است که ابتدا به کمک بردارهای تعبیه (به‌عنوان مثال بردار word2vec یا بردارهای از پیش‌آموخته‌ی مدل‌های زبانی عظیم مثل GPT یا Cohere)، کلمات مشابه warranty یا guarantee را نیز پیدا کرده و سپس علاوه بر دو کلمه‌ی اصلی، به دنبال چنین کلماتی نیز بگردید. فراموش نکنید که غلط‌های املایی ممکن و رایج را نیز در نظر بگیرید.\n",
    "\n",
    "بنابراین در این بخش نیاز است ابتدا به‌ازای هر دو کلمه، کلمات مشابه آن‌ها را توسط این روش پیدا کرده، سپس نظراتی که در آن‌ها حداقل یکی از این کلمات ظاهر شده بود را جدا کرده و در نهایت طبق این داده‌ی فیلترشده، میانگین امتیاز هر کالا را محاسبه و گزارش کنید.\n",
    "نکته: راه‌حل شرح‌داده‌شده صرفاً یک راه‌حل ساده‌ی پیشنهادی بوده و اگر علاقه دارید از روش خلاقانه‌ی دیگری بهره ببرید با تایید منتور بلامانع است و در صورت بهتر بودن رویکرد شما شامل نمره‌ی اضافه نیز خواهد شد.\n",
    "</div>\n",
    "</font>\n",
    "</p>"
   ]
  },
  {
   "cell_type": "markdown",
   "id": "474c1181",
   "metadata": {},
   "source": [
    "#### Keyword Extraction"
   ]
  },
  {
   "cell_type": "code",
   "execution_count": 1,
   "id": "77bcd902",
   "metadata": {},
   "outputs": [],
   "source": [
    "from gensim.models import KeyedVectors\n",
    "import pickle\n"
   ]
  },
  {
   "cell_type": "code",
   "execution_count": 2,
   "id": "71b122bc",
   "metadata": {},
   "outputs": [],
   "source": [
    "model = KeyedVectors.load_word2vec_format(\"../data/Word2Vec/GoogleNews-vectors-negative300.bin.gz\", binary=True)\n"
   ]
  },
  {
   "cell_type": "code",
   "execution_count": 8,
   "id": "d5edc544",
   "metadata": {},
   "outputs": [
    {
     "data": {
      "text/plain": [
       "[('warranties', 0.8235853910446167),\n",
       " ('warrantee', 0.781966507434845),\n",
       " ('Warranty', 0.7335840463638306),\n",
       " ('lifetime_warranty', 0.697948157787323),\n",
       " ('Limited_Warranty', 0.6898940205574036),\n",
       " ('extended_warranties', 0.6476331353187561),\n",
       " ('warrantees', 0.6356005072593689),\n",
       " ('warrenty', 0.6332387924194336),\n",
       " ('five-year/###_,###_mile', 0.6254701018333435),\n",
       " ('Lifetime_Warranty', 0.6205177903175354)]"
      ]
     },
     "execution_count": 8,
     "metadata": {},
     "output_type": "execute_result"
    }
   ],
   "source": [
    "similar_words_warranty = model.most_similar('warranty', topn=10)\n",
    "similar_words_warranty"
   ]
  },
  {
   "cell_type": "code",
   "execution_count": 7,
   "id": "4b88aa0e",
   "metadata": {},
   "outputs": [
    {
     "data": {
      "text/plain": [
       "[('guarantees', 0.822723925113678),\n",
       " ('guaranteed', 0.7438113689422607),\n",
       " ('guaranteeing', 0.7005587816238403),\n",
       " ('assure', 0.5853263735771179),\n",
       " ('assurances', 0.5550788044929504),\n",
       " ('ensure', 0.5258521437644958),\n",
       " ('Guarantee', 0.5235120058059692),\n",
       " ('assurance', 0.5162608027458191),\n",
       " ('insure', 0.5105894804000854),\n",
       " ('Disclaimer_Past_performance', 0.5068185329437256)]"
      ]
     },
     "execution_count": 7,
     "metadata": {},
     "output_type": "execute_result"
    }
   ],
   "source": [
    "similar_words_guarantee = model.most_similar('guarantee', topn=10)\n",
    "similar_words_guarantee"
   ]
  },
  {
   "cell_type": "code",
   "execution_count": 9,
   "id": "5bb5a989",
   "metadata": {},
   "outputs": [],
   "source": [
    "similar_words_warranty = [x[0] for x in similar_words_warranty]\n",
    "similar_words_guarantee = [x[0] for x in similar_words_guarantee]\n",
    "keywords = similar_words_warranty + similar_words_guarantee"
   ]
  },
  {
   "cell_type": "code",
   "execution_count": 10,
   "id": "73bfe60a",
   "metadata": {},
   "outputs": [],
   "source": [
    "# asked chat GPT for 20 words and phrases similar to warranty\n",
    "warranty_keywords = [\n",
    "    \"guarantee\",\n",
    "    \"return policy\",\n",
    "    \"refund policy\",\n",
    "    \"replacement policy\",\n",
    "    \"service contract\",\n",
    "    \"extended warranty\",\n",
    "    \"coverage\",\n",
    "    \"protection plan\",\n",
    "    \"repair coverage\",\n",
    "    \"satisfaction guarantee\",\n",
    "    \"money-back guarantee\",\n",
    "    \"product assurance\",\n",
    "    \"manufacturer's warranty\",\n",
    "    \"defect coverage\",\n",
    "    \"limited warranty\",\n",
    "    \"lifetime warranty\",\n",
    "    \"customer support\",\n",
    "    \"after-sales service\",\n",
    "    \"product support\",\n",
    "    \"liability coverage\"\n",
    "]\n"
   ]
  },
  {
   "cell_type": "code",
   "execution_count": 12,
   "id": "c8f29ab4",
   "metadata": {},
   "outputs": [],
   "source": [
    "common_typos = [\n",
    "    \"warrenty\", \"guarentee\", \"gaurantee\", \"waranty\", \"replacment policy\",\n",
    "    \"service contrakt\", \"moneyback guarantee\", \"costomer support\", \"refound policy\"\n",
    "]"
   ]
  },
  {
   "cell_type": "code",
   "execution_count": 13,
   "id": "85d521b9",
   "metadata": {},
   "outputs": [],
   "source": [
    "keywords = similar_words_guarantee + similar_words_warranty + warranty_keywords + common_typos"
   ]
  },
  {
   "cell_type": "code",
   "execution_count": 3,
   "id": "9707f2d3",
   "metadata": {},
   "outputs": [
    {
     "name": "stdout",
     "output_type": "stream",
     "text": [
      "guarantees\n",
      "guaranteed\n",
      "guaranteeing\n",
      "assure\n",
      "assurances\n",
      "ensure\n",
      "Guarantee\n",
      "assurance\n",
      "insure\n",
      "Disclaimer_Past_performance\n",
      "warranties\n",
      "warrantee\n",
      "Warranty\n",
      "lifetime_warranty\n",
      "Limited_Warranty\n",
      "extended_warranties\n",
      "warrantees\n",
      "warrenty\n",
      "five-year/###_,###_mile\n",
      "Lifetime_Warranty\n",
      "guarantee\n",
      "return policy\n",
      "refund policy\n",
      "replacement policy\n",
      "service contract\n",
      "extended warranty\n",
      "coverage\n",
      "protection plan\n",
      "repair coverage\n",
      "satisfaction guarantee\n",
      "money-back guarantee\n",
      "product assurance\n",
      "manufacturer's warranty\n",
      "defect coverage\n",
      "limited warranty\n",
      "lifetime warranty\n",
      "customer support\n",
      "after-sales service\n",
      "product support\n",
      "liability coverage\n",
      "warrenty\n",
      "guarentee\n",
      "gaurantee\n",
      "waranty\n",
      "replacment policy\n",
      "service contrakt\n",
      "moneyback guarantee\n",
      "costomer support\n",
      "refound policy\n"
     ]
    }
   ],
   "source": [
    "for x in keywords:\n",
    "    print(x)"
   ]
  },
  {
   "cell_type": "code",
   "execution_count": 14,
   "id": "665b6438",
   "metadata": {},
   "outputs": [],
   "source": [
    "with open(\"keywords.pkl\", \"wb\") as f:\n",
    "    pickle.dump(keywords, f)"
   ]
  },
  {
   "cell_type": "markdown",
   "id": "18e9dc28",
   "metadata": {},
   "source": [
    "#### Using Keywords to Filter the Dataset"
   ]
  },
  {
   "cell_type": "code",
   "execution_count": 17,
   "id": "baff87a5",
   "metadata": {},
   "outputs": [],
   "source": [
    "import pickle\n",
    "import pandas as pd\n",
    "import numpy as np\n",
    "import matplotlib.pyplot as plt\n",
    "from fuzzywuzzy import fuzz\n",
    "from tqdm import tqdm\n",
    "from scipy import stats\n"
   ]
  },
  {
   "cell_type": "code",
   "execution_count": 3,
   "id": "a8878623",
   "metadata": {},
   "outputs": [],
   "source": [
    "with open('keywords.pkl', 'rb') as f:\n",
    "    keywords = pickle.load(f)"
   ]
  },
  {
   "cell_type": "code",
   "execution_count": 4,
   "id": "adadb049",
   "metadata": {},
   "outputs": [],
   "source": [
    "def contains_warranty_related_text(review, keywords, threshold=90):\n",
    "    review = review.lower()\n",
    "    for keyword in keywords:\n",
    "        score = fuzz.partial_ratio(review, keyword.lower())\n",
    "        if score >= threshold:\n",
    "            return True\n",
    "    return False"
   ]
  },
  {
   "cell_type": "code",
   "execution_count": 5,
   "id": "4504b6da",
   "metadata": {},
   "outputs": [
    {
     "name": "stdout",
     "output_type": "stream",
     "text": [
      "Average rating for chunck 1: 3.97\n",
      "Average rating for chunck 2: 3.79\n",
      "Average rating for chunck 3: 3.68\n",
      "Average rating for chunck 4: 3.71\n",
      "Average rating for chunck 5: 3.66\n",
      "Average rating for chunck 6: 3.56\n",
      "Average rating for chunck 7: 3.47\n",
      "Average rating for chunck 8: 3.48\n",
      "Average rating for chunck 9: 3.46\n",
      "Average rating for chunck 10: 3.44\n",
      "Average rating for chunck 11: 3.43\n",
      "Average rating for chunck 12: 3.42\n",
      "Average rating for chunck 13: 3.41\n",
      "Average rating for chunck 14: 3.39\n",
      "Average rating for chunck 15: 3.37\n",
      "Average rating for chunck 16: 3.36\n",
      "Average rating for chunck 17: 3.33\n",
      "Average rating for chunck 18: 3.33\n",
      "Average rating for chunck 19: 3.31\n",
      "Average rating for chunck 20: 3.32\n",
      "Average rating for chunck 21: 3.32\n",
      "Average rating for chunck 22: 3.32\n",
      "Average rating for chunck 23: 3.32\n",
      "Average rating for chunck 24: 3.31\n",
      "chunk: 25, row number: 244158\r"
     ]
    },
    {
     "ename": "KeyboardInterrupt",
     "evalue": "",
     "output_type": "error",
     "traceback": [
      "\u001b[31m---------------------------------------------------------------------------\u001b[39m",
      "\u001b[31mKeyboardInterrupt\u001b[39m                         Traceback (most recent call last)",
      "\u001b[32m/tmp/ipykernel_25447/3877415298.py\u001b[39m in \u001b[36m?\u001b[39m\u001b[34m()\u001b[39m\n\u001b[32m     10\u001b[39m matched_rows = []\n\u001b[32m     11\u001b[39m chunk_averages = []\n\u001b[32m     12\u001b[39m chunk_num = \u001b[32m1\u001b[39m\n\u001b[32m     13\u001b[39m \u001b[38;5;28;01mfor\u001b[39;00m chunk \u001b[38;5;28;01min\u001b[39;00m pd.read_csv(file_path, chunksize=chunk_size):\n\u001b[32m---> \u001b[39m\u001b[32m14\u001b[39m     \u001b[38;5;28;01mfor\u001b[39;00m idx, row \u001b[38;5;28;01min\u001b[39;00m chunk.iterrows():\n\u001b[32m     15\u001b[39m         review = row.get(review_column, \u001b[33m\"\"\u001b[39m)\n\u001b[32m     16\u001b[39m         rating = row.get(rating_column, \u001b[38;5;28;01mNone\u001b[39;00m)\n\u001b[32m     17\u001b[39m \n",
      "\u001b[32m~/miniconda3/envs/quera/lib/python3.11/site-packages/pandas/core/frame.py\u001b[39m in \u001b[36m?\u001b[39m\u001b[34m(self)\u001b[39m\n\u001b[32m   1550\u001b[39m         columns = self.columns\n\u001b[32m   1551\u001b[39m         klass = self._constructor_sliced\n\u001b[32m   1552\u001b[39m         using_cow = using_copy_on_write()\n\u001b[32m   1553\u001b[39m         \u001b[38;5;28;01mfor\u001b[39;00m k, v \u001b[38;5;28;01min\u001b[39;00m zip(self.index, self.values):\n\u001b[32m-> \u001b[39m\u001b[32m1554\u001b[39m             s = klass(v, index=columns, name=k).__finalize__(self)\n\u001b[32m   1555\u001b[39m             \u001b[38;5;28;01mif\u001b[39;00m using_cow \u001b[38;5;28;01mand\u001b[39;00m self._mgr.is_single_block:\n\u001b[32m   1556\u001b[39m                 s._mgr.add_references(self._mgr)  \u001b[38;5;66;03m# type: ignore[arg-type]\u001b[39;00m\n\u001b[32m   1557\u001b[39m             \u001b[38;5;28;01myield\u001b[39;00m k, s\n",
      "\u001b[32m~/miniconda3/envs/quera/lib/python3.11/site-packages/pandas/core/series.py\u001b[39m in \u001b[36m?\u001b[39m\u001b[34m(self, data, index, dtype, name, copy, fastpath)\u001b[39m\n\u001b[32m    589\u001b[39m             \u001b[38;5;28;01melif\u001b[39;00m manager == \u001b[33m\"array\"\u001b[39m:\n\u001b[32m    590\u001b[39m                 data = SingleArrayManager.from_array(data, index)\n\u001b[32m    591\u001b[39m \n\u001b[32m    592\u001b[39m         NDFrame.__init__(self, data)\n\u001b[32m--> \u001b[39m\u001b[32m593\u001b[39m         self.name = name\n\u001b[32m    594\u001b[39m         self._set_axis(\u001b[32m0\u001b[39m, index)\n\u001b[32m    595\u001b[39m \n\u001b[32m    596\u001b[39m         \u001b[38;5;28;01mif\u001b[39;00m original_dtype \u001b[38;5;28;01mis\u001b[39;00m \u001b[38;5;28;01mNone\u001b[39;00m \u001b[38;5;28;01mand\u001b[39;00m is_pandas_object \u001b[38;5;28;01mand\u001b[39;00m data_dtype == np.object_:\n",
      "\u001b[32m~/miniconda3/envs/quera/lib/python3.11/site-packages/pandas/core/generic.py\u001b[39m in \u001b[36m?\u001b[39m\u001b[34m(self, name, value)\u001b[39m\n\u001b[32m   6310\u001b[39m \n\u001b[32m   6311\u001b[39m         \u001b[38;5;28;01mtry\u001b[39;00m:\n\u001b[32m   6312\u001b[39m             object.__getattribute__(self, name)\n\u001b[32m   6313\u001b[39m             \u001b[38;5;28;01mreturn\u001b[39;00m object.__setattr__(self, name, value)\n\u001b[32m-> \u001b[39m\u001b[32m6314\u001b[39m         \u001b[38;5;28;01mexcept\u001b[39;00m AttributeError:\n\u001b[32m   6315\u001b[39m             \u001b[38;5;28;01mpass\u001b[39;00m\n\u001b[32m   6316\u001b[39m \n\u001b[32m   6317\u001b[39m         \u001b[38;5;66;03m# if this fails, go on to more involved attribute setting\u001b[39;00m\n",
      "\u001b[32m~/miniconda3/envs/quera/lib/python3.11/site-packages/pandas/core/series.py\u001b[39m in \u001b[36m?\u001b[39m\u001b[34m(self)\u001b[39m\n\u001b[32m    778\u001b[39m         \u001b[32m2\u001b[39m            \u001b[32m5\u001b[39m             \u001b[32m6\u001b[39m\n\u001b[32m    779\u001b[39m         >>> df[\u001b[33m\"Even Numbers\"\u001b[39m].name\n\u001b[32m    780\u001b[39m         \u001b[33m'Even Numbers'\u001b[39m\n\u001b[32m    781\u001b[39m         \"\"\"\n\u001b[32m--> \u001b[39m\u001b[32m782\u001b[39m         \u001b[38;5;28;01mreturn\u001b[39;00m self._name\n",
      "\u001b[32m~/miniconda3/envs/quera/lib/python3.11/site-packages/pandas/core/generic.py\u001b[39m in \u001b[36m?\u001b[39m\u001b[34m(self, name)\u001b[39m\n\u001b[32m-> \u001b[39m\u001b[32m6284\u001b[39m     @final\n\u001b[32m   6285\u001b[39m     \u001b[38;5;28;01mdef\u001b[39;00m __getattr__(self, name: str):\n\u001b[32m   6286\u001b[39m         \"\"\"\n\u001b[32m   6287\u001b[39m         After regular attribute access, \u001b[38;5;28;01mtry\u001b[39;00m looking up the name\n",
      "\u001b[31mKeyboardInterrupt\u001b[39m: "
     ]
    }
   ],
   "source": [
    "file_path = \"../data/raw/train_data.csv\"  \n",
    "\n",
    "review_column = \"reviewText\"\n",
    "rating_column = \"overall\"\n",
    "\n",
    "chunk_size = 10000\n",
    "total_rating = 0\n",
    "match_count = 0\n",
    "\n",
    "matched_rows = []\n",
    "chunk_averages = []\n",
    "chunk_num = 1\n",
    "for chunk in pd.read_csv(file_path, chunksize=chunk_size):\n",
    "    for idx, row in chunk.iterrows():\n",
    "        review = row.get(review_column, \"\")\n",
    "        rating = row.get(rating_column, None)\n",
    "\n",
    "        if pd.notnull(rating) and contains_warranty_related_text(review, keywords):\n",
    "            total_rating += float(rating)\n",
    "            match_count += 1\n",
    "            matched_rows.append(review)\n",
    "\n",
    "        print(f'chunk: {chunk_num}, row number: {idx}', end='\\r')\n",
    "    if match_count > 0:\n",
    "        avg_rating = total_rating / match_count\n",
    "        print(f\"Average rating for chunck {chunk_num}: {avg_rating:.2f}\")\n",
    "        chunk_averages.append(avg_rating)\n",
    "    else:\n",
    "        print(f\"No warranty-related reviews found for chunk {chunk_num}.\")\n",
    "\n",
    "    chunk_num += 1\n"
   ]
  },
  {
   "cell_type": "code",
   "execution_count": 13,
   "id": "59d19b73",
   "metadata": {},
   "outputs": [
    {
     "name": "stderr",
     "output_type": "stream",
     "text": [
      "Sampling: 100%|██████████| 100/100 [05:12<00:00,  3.13s/it]\n"
     ]
    }
   ],
   "source": [
    "csv_path = '../data/raw/train_data.csv'  \n",
    "total_rows = 838944                    # total number of rows (excluding header)\n",
    "sample_size = 1000\n",
    "num_iterations = 100\n",
    "\n",
    "sample_means = []\n",
    "\n",
    "for _ in tqdm(range(num_iterations), desc=\"Sampling\"):\n",
    "    # Generate rows to skip (randomly skip all except 1000)\n",
    "    skip_rows = sorted(np.random.choice(np.arange(1, total_rows + 1), total_rows - sample_size, replace=False))\n",
    "\n",
    "    # Read 1000 random rows\n",
    "    df = pd.read_csv(csv_path, skiprows=skip_rows)\n",
    "\n",
    "    # Filter warranty-related reviews\n",
    "    filtered_df = df[df['reviewText'].apply(lambda x: contains_warranty_related_text(x, keywords))]\n",
    "\n",
    "    # Compute sample mean rating\n",
    "    if not filtered_df.empty:\n",
    "        mean_rating = filtered_df['overall'].mean()\n",
    "        sample_means.append(mean_rating)\n",
    "    else:\n",
    "        sample_means.append(np.nan)  # mark empty sample\n"
   ]
  },
  {
   "cell_type": "code",
   "execution_count": 14,
   "id": "66004aa1",
   "metadata": {},
   "outputs": [
    {
     "data": {
      "text/html": [
       "<div>\n",
       "<style scoped>\n",
       "    .dataframe tbody tr th:only-of-type {\n",
       "        vertical-align: middle;\n",
       "    }\n",
       "\n",
       "    .dataframe tbody tr th {\n",
       "        vertical-align: top;\n",
       "    }\n",
       "\n",
       "    .dataframe thead th {\n",
       "        text-align: right;\n",
       "    }\n",
       "</style>\n",
       "<table border=\"1\" class=\"dataframe\">\n",
       "  <thead>\n",
       "    <tr style=\"text-align: right;\">\n",
       "      <th></th>\n",
       "      <th>sample_mean</th>\n",
       "    </tr>\n",
       "  </thead>\n",
       "  <tbody>\n",
       "    <tr>\n",
       "      <th>0</th>\n",
       "      <td>2.909091</td>\n",
       "    </tr>\n",
       "    <tr>\n",
       "      <th>1</th>\n",
       "      <td>3.583333</td>\n",
       "    </tr>\n",
       "    <tr>\n",
       "      <th>2</th>\n",
       "      <td>3.200000</td>\n",
       "    </tr>\n",
       "    <tr>\n",
       "      <th>3</th>\n",
       "      <td>3.562500</td>\n",
       "    </tr>\n",
       "    <tr>\n",
       "      <th>4</th>\n",
       "      <td>2.461538</td>\n",
       "    </tr>\n",
       "  </tbody>\n",
       "</table>\n",
       "</div>"
      ],
      "text/plain": [
       "   sample_mean\n",
       "0     2.909091\n",
       "1     3.583333\n",
       "2     3.200000\n",
       "3     3.562500\n",
       "4     2.461538"
      ]
     },
     "execution_count": 14,
     "metadata": {},
     "output_type": "execute_result"
    }
   ],
   "source": [
    "sample_means = pd.DataFrame({'sample_mean': sample_means})\n",
    "sample_means.to_csv('../data/processed/sample_means.csv', index=False)\n",
    "sample_means.head()"
   ]
  },
  {
   "cell_type": "code",
   "execution_count": 16,
   "id": "b1bf083e",
   "metadata": {},
   "outputs": [
    {
     "data": {
      "image/png": "[encoded data removed]",
      "text/plain": [
       "<Figure size 640x480 with 1 Axes>"
      ]
     },
     "metadata": {},
     "output_type": "display_data"
    }
   ],
   "source": [
    "\n",
    "plt.hist(sample_means, bins=30)\n",
    "plt.title(\"Sample Means of Warranty-Related Ratings\")\n",
    "plt.xlabel(\"Average Rating\")\n",
    "plt.ylabel(\"Frequency\")\n",
    "plt.grid(True)\n",
    "plt.show()\n"
   ]
  },
  {
   "cell_type": "code",
   "execution_count": 18,
   "id": "ac476bc6",
   "metadata": {},
   "outputs": [],
   "source": [
    "def confidence_interval(data, confidence=0.95):\n",
    "    data = np.array(data)\n",
    "    n = len(data)\n",
    "    mean = np.mean(data)\n",
    "    sem = stats.sem(data)  # Standard error of the mean\n",
    "    h = stats.t.ppf((1 + confidence) / 2., n-1) * sem\n",
    "    return mean - h, mean + h"
   ]
  },
  {
   "cell_type": "code",
   "execution_count": 27,
   "id": "3351447d",
   "metadata": {},
   "outputs": [
    {
     "name": "stdout",
     "output_type": "stream",
     "text": [
      "Confidence Interval: (array([3.17153874]), array([3.36515201]))\n",
      "Average rating of warranty reviews: 3.27\n"
     ]
    }
   ],
   "source": [
    "print(f'Confidence Interval: {confidence_interval(sample_means)}')\n",
    "print(f'Average rating of warranty reviews: {sample_means.sample_mean.mean():.2f}')"
   ]
  },
  {
   "cell_type": "code",
   "execution_count": 20,
   "id": "0565f56b",
   "metadata": {},
   "outputs": [
    {
     "data": {
      "image/png": "[encoded data removed]",
      "text/plain": [
       "<Figure size 600x400 with 1 Axes>"
      ]
     },
     "metadata": {},
     "output_type": "display_data"
    }
   ],
   "source": [
    "ci_lower, ci_upper = confidence_interval(sample_means)\n",
    "margin_of_error = (ci_upper - ci_lower) / 2\n",
    "plt.figure(figsize=(6, 4))\n",
    "plt.errorbar(x=1, y=sample_means.mean(), yerr=margin_of_error, fmt='o', capsize=10, color='blue')\n",
    "plt.xlim(0, 2)\n",
    "plt.xticks([])\n",
    "plt.ylabel('Average Rating')\n",
    "plt.title('95% Confidence Interval for Mean Rating (Warranty Reviews)')\n",
    "plt.grid(True)\n",
    "plt.show()"
   ]
  }
 ],
 "metadata": {
  "kernelspec": {
   "display_name": "quera",
   "language": "python",
   "name": "python3"
  },
  "language_info": {
   "codemirror_mode": {
    "name": "ipython",
    "version": 3
   },
   "file_extension": ".py",
   "mimetype": "text/x-python",
   "name": "python",
   "nbconvert_exporter": "python",
   "pygments_lexer": "ipython3",
   "version": "3.11.13"
  }
 },
 "nbformat": 4,
 "nbformat_minor": 5
}
