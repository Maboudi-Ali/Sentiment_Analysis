{
 "cells": [
  {
   "cell_type": "code",
   "execution_count": 2,
   "id": "0a2af120-055a-42ff-b3f0-7ecc6635560d",
   "metadata": {},
   "outputs": [],
   "source": [
    "import pandas as pd\n",
    "import numpy as np\n",
    "import torch\n",
    "from torch.utils.data import DataLoader, Dataset\n",
    "from transformers import DistilBertTokenizer, DistilBertForSequenceClassification\n",
    "from torch.optim import AdamW\n",
    "from sklearn.model_selection import train_test_split\n",
    "from sklearn.metrics import classification_report, accuracy_score, confusion_matrix\n",
    "from sklearn.utils.class_weight import compute_class_weight\n",
    "import matplotlib.pyplot as plt\n",
    "import seaborn as sns\n",
    "from collections import Counter"
   ]
  },
  {
   "cell_type": "code",
   "execution_count": 3,
   "id": "4daff604-6d34-4f4e-912c-b1937fe8d194",
   "metadata": {},
   "outputs": [],
   "source": [
    "train_data = pd.read_csv('train_data.csv', low_memory=False)"
   ]
  },
  {
   "cell_type": "code",
   "execution_count": 4,
   "id": "4e6cd371-0926-4736-9cec-8d8d382ce818",
   "metadata": {},
   "outputs": [
    {
     "data": {
      "text/plain": [
       "(56763, 11)"
      ]
     },
     "execution_count": 4,
     "metadata": {},
     "output_type": "execute_result"
    }
   ],
   "source": [
    "df5 = train_data[train_data['overall']==5].sample(frac=0.123, random_state=42)\n",
    "df5.shape"
   ]
  },
  {
   "cell_type": "code",
   "execution_count": 5,
   "id": "0afdafd5-8743-40ca-af50-28f011cad751",
   "metadata": {},
   "outputs": [
    {
     "data": {
      "text/plain": [
       "(56345, 11)"
      ]
     },
     "execution_count": 5,
     "metadata": {},
     "output_type": "execute_result"
    }
   ],
   "source": [
    "df4 = train_data[train_data['overall']==4].sample(frac=0.36, random_state=42)\n",
    "df4.shape"
   ]
  },
  {
   "cell_type": "code",
   "execution_count": 6,
   "id": "4dd8b36a-7c33-4661-9502-467709b3443b",
   "metadata": {},
   "outputs": [
    {
     "data": {
      "text/plain": [
       "(56867, 11)"
      ]
     },
     "execution_count": 6,
     "metadata": {},
     "output_type": "execute_result"
    }
   ],
   "source": [
    "df3 = train_data[train_data['overall']==3].sample(frac=0.7, random_state=42)\n",
    "df3.shape"
   ]
  },
  {
   "cell_type": "code",
   "execution_count": 7,
   "id": "78abcc6b-9827-4eb5-aa56-ca785c214f22",
   "metadata": {},
   "outputs": [
    {
     "data": {
      "text/plain": [
       "(56756, 11)"
      ]
     },
     "execution_count": 7,
     "metadata": {},
     "output_type": "execute_result"
    }
   ],
   "source": [
    "df2 = train_data[train_data['overall']==2].sample(frac=1, random_state=42)\n",
    "df2.shape"
   ]
  },
  {
   "cell_type": "code",
   "execution_count": 8,
   "id": "0c3ed60d-e289-4f52-bc8b-6e5f360bf322",
   "metadata": {},
   "outputs": [
    {
     "data": {
      "text/plain": [
       "(56406, 11)"
      ]
     },
     "execution_count": 8,
     "metadata": {},
     "output_type": "execute_result"
    }
   ],
   "source": [
    "df1 = train_data[train_data['overall']==1].sample(frac=0.68, random_state=42)\n",
    "df1.shape"
   ]
  },
  {
   "cell_type": "code",
   "execution_count": 9,
   "id": "b0899151-82f3-484f-b82c-b0c8bf51c9fe",
   "metadata": {},
   "outputs": [
    {
     "data": {
      "text/html": [
       "<div>\n",
       "<style scoped>\n",
       "    .dataframe tbody tr th:only-of-type {\n",
       "        vertical-align: middle;\n",
       "    }\n",
       "\n",
       "    .dataframe tbody tr th {\n",
       "        vertical-align: top;\n",
       "    }\n",
       "\n",
       "    .dataframe thead th {\n",
       "        text-align: right;\n",
       "    }\n",
       "</style>\n",
       "<table border=\"1\" class=\"dataframe\">\n",
       "  <thead>\n",
       "    <tr style=\"text-align: right;\">\n",
       "      <th></th>\n",
       "      <th>overall</th>\n",
       "      <th>vote</th>\n",
       "      <th>verified</th>\n",
       "      <th>reviewTime</th>\n",
       "      <th>reviewerID</th>\n",
       "      <th>asin</th>\n",
       "      <th>style</th>\n",
       "      <th>reviewerName</th>\n",
       "      <th>reviewText</th>\n",
       "      <th>summary</th>\n",
       "      <th>unixReviewTime</th>\n",
       "    </tr>\n",
       "  </thead>\n",
       "  <tbody>\n",
       "    <tr>\n",
       "      <th>162556</th>\n",
       "      <td>1</td>\n",
       "      <td>NaN</td>\n",
       "      <td>False</td>\n",
       "      <td>2016-01-03</td>\n",
       "      <td>A2RN50HQ5YYVVT</td>\n",
       "      <td>B00B5Q7ACE</td>\n",
       "      <td>{'Capacity:': ' No Size', 'Style:': ' 4-Bay En...</td>\n",
       "      <td>Sid Priyadarshi</td>\n",
       "      <td>This is a really slow product, and some featur...</td>\n",
       "      <td>Slow drive, multiple timeouts</td>\n",
       "      <td>1451779200</td>\n",
       "    </tr>\n",
       "    <tr>\n",
       "      <th>260161</th>\n",
       "      <td>1</td>\n",
       "      <td>NaN</td>\n",
       "      <td>True</td>\n",
       "      <td>2016-09-15</td>\n",
       "      <td>A11P4JMZ8LVCSN</td>\n",
       "      <td>B00INF5IU6</td>\n",
       "      <td>NaN</td>\n",
       "      <td>Tobor</td>\n",
       "      <td>I have purchased 3 pairs overtime.  January 20...</td>\n",
       "      <td>Left Side Fails after several months of gentle...</td>\n",
       "      <td>1473897600</td>\n",
       "    </tr>\n",
       "    <tr>\n",
       "      <th>546764</th>\n",
       "      <td>1</td>\n",
       "      <td>4</td>\n",
       "      <td>True</td>\n",
       "      <td>2016-12-20</td>\n",
       "      <td>A1C8C8QR0LWPU6</td>\n",
       "      <td>B015PD3HOC</td>\n",
       "      <td>{'Size:': ' AC5300', 'Style:': ' without exper...</td>\n",
       "      <td>G. Stein</td>\n",
       "      <td>Hello, I purchase the Nighthawk AC5300 and wor...</td>\n",
       "      <td>Netgear AC5300 X8 not worth it!</td>\n",
       "      <td>1482192000</td>\n",
       "    </tr>\n",
       "    <tr>\n",
       "      <th>228563</th>\n",
       "      <td>1</td>\n",
       "      <td>2.0</td>\n",
       "      <td>True</td>\n",
       "      <td>2016-05-09</td>\n",
       "      <td>A29407ZZXMJFIB</td>\n",
       "      <td>B00G9XGAPG</td>\n",
       "      <td>NaN</td>\n",
       "      <td>Gletkin</td>\n",
       "      <td>The 3-pack arrived Saturday and two were insta...</td>\n",
       "      <td>After Three days: One alive, One dead,and One ...</td>\n",
       "      <td>1462752000</td>\n",
       "    </tr>\n",
       "    <tr>\n",
       "      <th>628780</th>\n",
       "      <td>1</td>\n",
       "      <td>9</td>\n",
       "      <td>True</td>\n",
       "      <td>2017-11-04</td>\n",
       "      <td>A2V5HT1V820OV6</td>\n",
       "      <td>B01AWGYE12</td>\n",
       "      <td>{'Size:': ' Wi-Fi'}</td>\n",
       "      <td>Cassandra Ketterer</td>\n",
       "      <td>The projector itself is pretty amazing, HOWEVE...</td>\n",
       "      <td>Lovely Projector, but basically useless becaus...</td>\n",
       "      <td>1509753600</td>\n",
       "    </tr>\n",
       "    <tr>\n",
       "      <th>...</th>\n",
       "      <td>...</td>\n",
       "      <td>...</td>\n",
       "      <td>...</td>\n",
       "      <td>...</td>\n",
       "      <td>...</td>\n",
       "      <td>...</td>\n",
       "      <td>...</td>\n",
       "      <td>...</td>\n",
       "      <td>...</td>\n",
       "      <td>...</td>\n",
       "      <td>...</td>\n",
       "    </tr>\n",
       "    <tr>\n",
       "      <th>613946</th>\n",
       "      <td>5</td>\n",
       "      <td>NaN</td>\n",
       "      <td>True</td>\n",
       "      <td>2018-02-10</td>\n",
       "      <td>A1VUNVDZ9YI23D</td>\n",
       "      <td>B019VM3GKI</td>\n",
       "      <td>{'Size:': ' Small (5.5 - 6.7 in)', 'Color:': '...</td>\n",
       "      <td>Vanessa</td>\n",
       "      <td>LOVE!!! I've been so hesitant to buy this beca...</td>\n",
       "      <td>LOVE!!</td>\n",
       "      <td>1518220800</td>\n",
       "    </tr>\n",
       "    <tr>\n",
       "      <th>373542</th>\n",
       "      <td>5</td>\n",
       "      <td>6.0</td>\n",
       "      <td>True</td>\n",
       "      <td>2017-01-21</td>\n",
       "      <td>A3139P1HOJI4QP</td>\n",
       "      <td>B00R0DCSSM</td>\n",
       "      <td>{'Size:': ' HAS-10'}</td>\n",
       "      <td>Good Guy</td>\n",
       "      <td>My god, these headphones are fabulous. I just ...</td>\n",
       "      <td>Absolutely fabulous !!</td>\n",
       "      <td>1484956800</td>\n",
       "    </tr>\n",
       "    <tr>\n",
       "      <th>203410</th>\n",
       "      <td>5</td>\n",
       "      <td>NaN</td>\n",
       "      <td>True</td>\n",
       "      <td>2016-03-09</td>\n",
       "      <td>A3BHXRBK9B7K9Y</td>\n",
       "      <td>B00E5I7VJG</td>\n",
       "      <td>{'Size:': ' 3 Feet'}</td>\n",
       "      <td>Gustav</td>\n",
       "      <td>These are really nicely made cables.  They fee...</td>\n",
       "      <td>I love Cable Matters stuff</td>\n",
       "      <td>1457481600</td>\n",
       "    </tr>\n",
       "    <tr>\n",
       "      <th>502103</th>\n",
       "      <td>5</td>\n",
       "      <td>NaN</td>\n",
       "      <td>True</td>\n",
       "      <td>2017-12-22</td>\n",
       "      <td>A2TWQTW5YY51GH</td>\n",
       "      <td>B012N3C6OY</td>\n",
       "      <td>{'Color:': ' Blue'}</td>\n",
       "      <td>Manuel Lopez, Jr.</td>\n",
       "      <td>Love it! I have a USB drive that has all my mu...</td>\n",
       "      <td>Switch folders</td>\n",
       "      <td>1513900800</td>\n",
       "    </tr>\n",
       "    <tr>\n",
       "      <th>678104</th>\n",
       "      <td>5</td>\n",
       "      <td>2</td>\n",
       "      <td>True</td>\n",
       "      <td>2016-08-08</td>\n",
       "      <td>A1NS3R7FJDEOFO</td>\n",
       "      <td>B01DOB6YQA</td>\n",
       "      <td>NaN</td>\n",
       "      <td>JJM</td>\n",
       "      <td>Great value.\\nProduct functionality and qualit...</td>\n",
       "      <td>Samsung 64GB EVO Select Micro SDXC Memory...Ve...</td>\n",
       "      <td>1470614400</td>\n",
       "    </tr>\n",
       "  </tbody>\n",
       "</table>\n",
       "<p>283137 rows × 11 columns</p>\n",
       "</div>"
      ],
      "text/plain": [
       "        overall vote  verified  reviewTime      reviewerID        asin  \\\n",
       "162556        1  NaN     False  2016-01-03  A2RN50HQ5YYVVT  B00B5Q7ACE   \n",
       "260161        1  NaN      True  2016-09-15  A11P4JMZ8LVCSN  B00INF5IU6   \n",
       "546764        1    4      True  2016-12-20  A1C8C8QR0LWPU6  B015PD3HOC   \n",
       "228563        1  2.0      True  2016-05-09  A29407ZZXMJFIB  B00G9XGAPG   \n",
       "628780        1    9      True  2017-11-04  A2V5HT1V820OV6  B01AWGYE12   \n",
       "...         ...  ...       ...         ...             ...         ...   \n",
       "613946        5  NaN      True  2018-02-10  A1VUNVDZ9YI23D  B019VM3GKI   \n",
       "373542        5  6.0      True  2017-01-21  A3139P1HOJI4QP  B00R0DCSSM   \n",
       "203410        5  NaN      True  2016-03-09  A3BHXRBK9B7K9Y  B00E5I7VJG   \n",
       "502103        5  NaN      True  2017-12-22  A2TWQTW5YY51GH  B012N3C6OY   \n",
       "678104        5    2      True  2016-08-08  A1NS3R7FJDEOFO  B01DOB6YQA   \n",
       "\n",
       "                                                    style        reviewerName  \\\n",
       "162556  {'Capacity:': ' No Size', 'Style:': ' 4-Bay En...     Sid Priyadarshi   \n",
       "260161                                                NaN               Tobor   \n",
       "546764  {'Size:': ' AC5300', 'Style:': ' without exper...            G. Stein   \n",
       "228563                                                NaN             Gletkin   \n",
       "628780                                {'Size:': ' Wi-Fi'}  Cassandra Ketterer   \n",
       "...                                                   ...                 ...   \n",
       "613946  {'Size:': ' Small (5.5 - 6.7 in)', 'Color:': '...             Vanessa   \n",
       "373542                               {'Size:': ' HAS-10'}            Good Guy   \n",
       "203410                               {'Size:': ' 3 Feet'}              Gustav   \n",
       "502103                                {'Color:': ' Blue'}   Manuel Lopez, Jr.   \n",
       "678104                                                NaN                 JJM   \n",
       "\n",
       "                                               reviewText  \\\n",
       "162556  This is a really slow product, and some featur...   \n",
       "260161  I have purchased 3 pairs overtime.  January 20...   \n",
       "546764  Hello, I purchase the Nighthawk AC5300 and wor...   \n",
       "228563  The 3-pack arrived Saturday and two were insta...   \n",
       "628780  The projector itself is pretty amazing, HOWEVE...   \n",
       "...                                                   ...   \n",
       "613946  LOVE!!! I've been so hesitant to buy this beca...   \n",
       "373542  My god, these headphones are fabulous. I just ...   \n",
       "203410  These are really nicely made cables.  They fee...   \n",
       "502103  Love it! I have a USB drive that has all my mu...   \n",
       "678104  Great value.\\nProduct functionality and qualit...   \n",
       "\n",
       "                                                  summary  unixReviewTime  \n",
       "162556                      Slow drive, multiple timeouts      1451779200  \n",
       "260161  Left Side Fails after several months of gentle...      1473897600  \n",
       "546764                    Netgear AC5300 X8 not worth it!      1482192000  \n",
       "228563  After Three days: One alive, One dead,and One ...      1462752000  \n",
       "628780  Lovely Projector, but basically useless becaus...      1509753600  \n",
       "...                                                   ...             ...  \n",
       "613946                                             LOVE!!      1518220800  \n",
       "373542                             Absolutely fabulous !!      1484956800  \n",
       "203410                         I love Cable Matters stuff      1457481600  \n",
       "502103                                     Switch folders      1513900800  \n",
       "678104  Samsung 64GB EVO Select Micro SDXC Memory...Ve...      1470614400  \n",
       "\n",
       "[283137 rows x 11 columns]"
      ]
     },
     "execution_count": 9,
     "metadata": {},
     "output_type": "execute_result"
    }
   ],
   "source": [
    "df = pd.concat([df1,df2,df3,df4,df5],axis=0)\n",
    "df"
   ]
  },
  {
   "cell_type": "markdown",
   "id": "03ec5cb8-dfac-4449-8a0a-01d41f0823c8",
   "metadata": {},
   "source": [
    "# Preprocessing"
   ]
  },
  {
   "cell_type": "code",
   "execution_count": 10,
   "id": "c9452334-bee8-40cc-ab2c-11b1ecc67cbf",
   "metadata": {},
   "outputs": [
    {
     "name": "stdout",
     "output_type": "stream",
     "text": [
      "Filtered Rating Distribution (1-5 stars):\n",
      "overall\n",
      "1    56406\n",
      "2    56756\n",
      "3    56867\n",
      "4    56345\n",
      "5    56763\n",
      "Name: count, dtype: int64\n",
      "------------------------------\n",
      "Mapped Label Distribution (0-4 for PyTorch):\n",
      "label\n",
      "0    56406\n",
      "1    56756\n",
      "2    56867\n",
      "3    56345\n",
      "4    56763\n",
      "Name: count, dtype: int64\n",
      "------------------------------\n",
      "\n",
      "Train Label Distribution:\n",
      "label\n",
      "0    45125\n",
      "1    45405\n",
      "2    45493\n",
      "3    45076\n",
      "4    45410\n",
      "Name: count, dtype: int64\n",
      "\n",
      "validation Label Distribution:\n",
      "label\n",
      "0    11281\n",
      "1    11351\n",
      "2    11374\n",
      "3    11269\n",
      "4    11353\n",
      "Name: count, dtype: int64\n"
     ]
    }
   ],
   "source": [
    "TEXT_COLUMN = 'reviewText'\n",
    "RATING_COLUMN = 'overall'\n",
    "\n",
    "if TEXT_COLUMN not in df.columns:\n",
    "    raise ValueError(f\"Column '{TEXT_COLUMN}' not found in the dataset. Please check the review text column name.\")\n",
    "if RATING_COLUMN not in df.columns:\n",
    "    raise ValueError(f\"Column '{RATING_COLUMN}' not found in the dataset. Please check the rating column name.\")\n",
    "\n",
    "# Data Cleaning: Handle missing values and ensure 'overall' is integer\n",
    "# Drop rows where reviewText or overall rating is missing\n",
    "df.dropna(subset=[TEXT_COLUMN, RATING_COLUMN], inplace=True)\n",
    "\n",
    "# Convert 'overall' to numeric and then to integer. Coerce errors to NaN and then drop.\n",
    "df[RATING_COLUMN] = pd.to_numeric(df[RATING_COLUMN], errors='coerce')\n",
    "df.dropna(subset=[RATING_COLUMN], inplace=True)\n",
    "df[RATING_COLUMN] = df[RATING_COLUMN].astype(int)\n",
    "\n",
    "# Filter for valid 1-5 star ratings\n",
    "df = df[(df[RATING_COLUMN] >= 1) & (df[RATING_COLUMN] <= 5)].copy()\n",
    "\n",
    "# Map 1-5 ratings to 0-4 for PyTorch CrossEntropyLoss\n",
    "df['label'] = df[RATING_COLUMN] - 1\n",
    "\n",
    "print(\"Filtered Rating Distribution (1-5 stars):\")\n",
    "print(df[RATING_COLUMN].value_counts().sort_index())\n",
    "print(\"-\" * 30)\n",
    "print(\"Mapped Label Distribution (0-4 for PyTorch):\")\n",
    "print(df['label'].value_counts().sort_index())\n",
    "print(\"-\" * 30)\n",
    "\n",
    "# Split the dataset\n",
    "# Stratify by 'label' to ensure similar distribution of 1-5 star ratings in train/test sets\n",
    "train_df, val_df = train_test_split(df, test_size=0.2, random_state=42, stratify=df['label'])\n",
    "\n",
    "print(\"\\nTrain Label Distribution:\")\n",
    "print(train_df['label'].value_counts().sort_index())\n",
    "print(\"\\nvalidation Label Distribution:\")\n",
    "print(val_df['label'].value_counts().sort_index())\n",
    "\n",
    "\n"
   ]
  },
  {
   "cell_type": "markdown",
   "id": "a82e5cee-883f-40ae-a6f6-5a8a3bf8ea18",
   "metadata": {},
   "source": [
    "# Custom Dataset and DataLoader"
   ]
  },
  {
   "cell_type": "code",
   "execution_count": 11,
   "id": "2a397d3e-fb0c-4fee-a64e-6728833d9e01",
   "metadata": {},
   "outputs": [],
   "source": [
    "class AmazonReviewDataset(Dataset):\n",
    "    def __init__(self, texts, labels, tokenizer, max_len):\n",
    "        self.texts = texts\n",
    "        self.labels = labels\n",
    "        self.tokenizer = tokenizer\n",
    "        self.max_len = max_len\n",
    "\n",
    "    def __len__(self):\n",
    "        return len(self.texts)\n",
    "\n",
    "    def __getitem__(self, idx):\n",
    "        text = str(self.texts[idx])\n",
    "        label = self.labels[idx]\n",
    "\n",
    "        encoding = self.tokenizer.encode_plus(\n",
    "            text,\n",
    "            add_special_tokens=True,\n",
    "            max_length=self.max_len,\n",
    "            return_token_type_ids=False,\n",
    "            padding='max_length',\n",
    "            return_attention_mask=True,\n",
    "            return_tensors='pt',\n",
    "            truncation=True\n",
    "        )\n",
    "\n",
    "        return {\n",
    "            'text': text,\n",
    "            'input_ids': encoding['input_ids'].flatten(),\n",
    "            'attention_mask': encoding['attention_mask'].flatten(),\n",
    "            'labels': torch.tensor(label, dtype=torch.long)\n",
    "        }"
   ]
  },
  {
   "cell_type": "markdown",
   "id": "cc8568ec-cc35-430b-9813-82ec96fd43a3",
   "metadata": {},
   "source": [
    "# Model and Tokenizer Setup"
   ]
  },
  {
   "cell_type": "code",
   "execution_count": 12,
   "id": "5ad5cdfd-f29c-48d2-8209-401e53207e3a",
   "metadata": {},
   "outputs": [],
   "source": [
    "PRE_TRAINED_MODEL_NAME = 'distilbert-base-uncased'\n",
    "tokenizer = DistilBertTokenizer.from_pretrained(PRE_TRAINED_MODEL_NAME)\n",
    "MAX_LEN = 128 # Adjust based on your average review length. For short reviews, 128 is usually fine.\n",
    "BATCH_SIZE = 16\n",
    "\n",
    "train_dataset = AmazonReviewDataset(\n",
    "    texts=train_df[TEXT_COLUMN].to_numpy(),\n",
    "    labels=train_df['label'].to_numpy(),\n",
    "    tokenizer=tokenizer,\n",
    "    max_len=MAX_LEN\n",
    ")\n",
    "\n",
    "val_dataset = AmazonReviewDataset(\n",
    "    texts = val_df[TEXT_COLUMN].to_numpy(),\n",
    "    labels = val_df['label'].to_numpy(),\n",
    "    tokenizer=tokenizer,\n",
    "    max_len=MAX_LEN\n",
    ")\n",
    "\n",
    "\n",
    "train_data_loader = DataLoader(\n",
    "    train_dataset,\n",
    "    batch_size=BATCH_SIZE,\n",
    "    shuffle=True\n",
    ")\n",
    "\n",
    "val_data_loader = DataLoader(\n",
    "    val_dataset,\n",
    "    batch_size=BATCH_SIZE,\n",
    "    shuffle=False\n",
    ")"
   ]
  },
  {
   "cell_type": "markdown",
   "id": "33b800e0-29d8-41cd-8cc2-73838f9896ef",
   "metadata": {},
   "source": [
    "# Model Initialization and Imbalance Handling (Class Weighting)"
   ]
  },
  {
   "cell_type": "code",
   "execution_count": 13,
   "id": "5eb241cf-835f-475a-a718-763bc1af8ea8",
   "metadata": {},
   "outputs": [
    {
     "name": "stdout",
     "output_type": "stream",
     "text": [
      "Using device: cuda\n"
     ]
    },
    {
     "name": "stderr",
     "output_type": "stream",
     "text": [
      "Some weights of DistilBertForSequenceClassification were not initialized from the model checkpoint at distilbert-base-uncased and are newly initialized: ['classifier.bias', 'classifier.weight', 'pre_classifier.bias', 'pre_classifier.weight']\n",
      "You should probably TRAIN this model on a down-stream task to be able to use it for predictions and inference.\n"
     ]
    },
    {
     "name": "stdout",
     "output_type": "stream",
     "text": [
      "\n",
      "Class Weights (for labels 0-4): [1.003918   0.9977271  0.99579716 1.0050093  0.99761724]\n"
     ]
    }
   ],
   "source": [
    "# Determine the device\n",
    "device = torch.device(\"cuda\" if torch.cuda.is_available() else \"cpu\")\n",
    "print(f\"Using device: {device}\")\n",
    "\n",
    "# num_labels should now be 5 (for 1, 2, 3, 4, 5 stars)\n",
    "NUM_CLASSES = len(np.unique(df['label'])) # This will be 5 if all 1-5 stars are present after filtering\n",
    "model = DistilBertForSequenceClassification.from_pretrained(PRE_TRAINED_MODEL_NAME, num_labels=NUM_CLASSES)\n",
    "model = model.to(device)\n",
    "\n",
    "# Calculate class weights for imbalanced data (based on 0-4 labels)\n",
    "class_weights = compute_class_weight(\n",
    "    class_weight='balanced',\n",
    "    classes=np.unique(train_df['label']),\n",
    "    y=train_df['label']\n",
    ")\n",
    "class_weights = torch.tensor(class_weights, dtype=torch.float).to(device)\n",
    "print(f\"\\nClass Weights (for labels 0-4): {class_weights.cpu().numpy()}\")\n",
    "\n",
    "# Optimizer and Loss Function\n",
    "EPOCHS = 2 # You might need more epochs for convergence with 5 classes and a potentially small dataset\n",
    "optimizer = AdamW(model.parameters(), lr=2e-5)\n",
    "loss_fn = torch.nn.CrossEntropyLoss(weight=class_weights) # Apply class weights here\n",
    "\n",
    "\n"
   ]
  },
  {
   "cell_type": "markdown",
   "id": "f77b5a82-c944-416a-abb6-700df157d69b",
   "metadata": {},
   "source": [
    "# Training Model"
   ]
  },
  {
   "cell_type": "code",
   "execution_count": 14,
   "id": "65659fbb-4207-4f03-9e2a-eb138e0ee95d",
   "metadata": {},
   "outputs": [],
   "source": [
    "def train_epoch(model, data_loader, loss_fn, optimizer, device, scheduler=None):\n",
    "    model = model.train()\n",
    "    losses = []\n",
    "    correct_predictions = 0\n",
    "    total_samples = 0\n",
    "\n",
    "    for batch in data_loader:\n",
    "        input_ids = batch['input_ids'].to(device)\n",
    "        attention_mask = batch['attention_mask'].to(device)\n",
    "        labels = batch['labels'].to(device)\n",
    "\n",
    "        outputs = model(input_ids=input_ids, attention_mask=attention_mask)\n",
    "        logits = outputs.logits\n",
    "        _, preds = torch.max(logits, dim=1)\n",
    "\n",
    "        loss = loss_fn(logits, labels)\n",
    "\n",
    "        correct_predictions += torch.sum(preds == labels)\n",
    "        total_samples += labels.size(0)\n",
    "\n",
    "        losses.append(loss.item())\n",
    "\n",
    "        loss.backward()\n",
    "        torch.nn.utils.clip_grad_norm_(model.parameters(), 1.0)\n",
    "        optimizer.step()\n",
    "        if scheduler:\n",
    "            scheduler.step()\n",
    "        optimizer.zero_grad()\n",
    "\n",
    "    return correct_predictions.double() / total_samples, np.mean(losses)"
   ]
  },
  {
   "cell_type": "markdown",
   "id": "7c8cc308-0e7c-497d-b853-5c6759606f17",
   "metadata": {},
   "source": [
    "# Evaluation"
   ]
  },
  {
   "cell_type": "code",
   "execution_count": 15,
   "id": "3a1067aa-063e-4051-933a-19ff14856caa",
   "metadata": {},
   "outputs": [],
   "source": [
    "def eval_model(model, data_loader, loss_fn, device):\n",
    "    model = model.eval()\n",
    "    losses = []\n",
    "    correct_predictions = 0\n",
    "    total_samples = 0\n",
    "    all_predictions = []\n",
    "    all_true_labels = []\n",
    "\n",
    "    with torch.no_grad():\n",
    "        for batch in data_loader:\n",
    "            input_ids = batch['input_ids'].to(device)\n",
    "            attention_mask = batch['attention_mask'].to(device)\n",
    "            labels = batch['labels'].to(device)\n",
    "\n",
    "            outputs = model(input_ids=input_ids, attention_mask=attention_mask)\n",
    "            logits = outputs.logits\n",
    "            _, preds = torch.max(logits, dim=1)\n",
    "\n",
    "            loss = loss_fn(logits, labels)\n",
    "\n",
    "            correct_predictions += torch.sum(preds == labels)\n",
    "            total_samples += labels.size(0)\n",
    "\n",
    "            losses.append(loss.item())\n",
    "            all_predictions.extend(preds.cpu().numpy())\n",
    "            all_true_labels.extend(labels.cpu().numpy())\n",
    "\n",
    "    return correct_predictions.double() / total_samples, np.mean(losses), all_predictions, all_true_labels"
   ]
  },
  {
   "cell_type": "markdown",
   "id": "914ea993-df1a-4812-a356-bf04ea015572",
   "metadata": {},
   "source": [
    "# Training Loop"
   ]
  },
  {
   "cell_type": "code",
   "execution_count": 16,
   "id": "afae616e-0c94-489b-8102-187d99d9bea6",
   "metadata": {},
   "outputs": [
    {
     "name": "stdout",
     "output_type": "stream",
     "text": [
      "\n",
      "Starting training...\n",
      "\n",
      "Epoch 1/2\n",
      "Train loss: 0.9926 Train accuracy: 0.5685\n",
      "Validation loss: 0.9294 Validation accuracy: 0.6021\n",
      "\n",
      "Epoch 2/2\n",
      "Train loss: 0.8607 Train accuracy: 0.6306\n",
      "Validation loss: 0.9162 Validation accuracy: 0.6108\n",
      "\n",
      "Training complete!\n",
      "\n",
      "Test Accuracy: 0.6108\n",
      "Test Loss: 0.9162\n",
      "\n",
      "Classification Report:\n",
      "              precision    recall  f1-score   support\n",
      "\n",
      "           1       0.69      0.67      0.68     11281\n",
      "           2       0.50      0.52      0.51     11351\n",
      "           3       0.52      0.54      0.53     11374\n",
      "           4       0.63      0.51      0.56     11269\n",
      "           5       0.72      0.82      0.77     11353\n",
      "\n",
      "    accuracy                           0.61     56628\n",
      "   macro avg       0.61      0.61      0.61     56628\n",
      "weighted avg       0.61      0.61      0.61     56628\n",
      "\n"
     ]
    }
   ],
   "source": [
    "history = {'train_acc': [], 'train_loss': [], 'val_acc': [], 'val_loss': []}\n",
    "\n",
    "print(\"\\nStarting training...\")\n",
    "for epoch in range(EPOCHS):\n",
    "    print(f\"\\nEpoch {epoch + 1}/{EPOCHS}\")\n",
    "    train_acc, train_loss = train_epoch(\n",
    "        model,\n",
    "        train_data_loader,\n",
    "        loss_fn,\n",
    "        optimizer,\n",
    "        device\n",
    "    )\n",
    "    print(f\"Train loss: {train_loss:.4f} Train accuracy: {train_acc:.4f}\")\n",
    "\n",
    "    val_acc, val_loss, _, _ = eval_model(\n",
    "        model,\n",
    "        val_data_loader,\n",
    "        loss_fn,\n",
    "        device\n",
    "    )\n",
    "    print(f\"Validation loss: {val_loss:.4f} Validation accuracy: {val_acc:.4f}\")\n",
    "\n",
    "    history['train_acc'].append(train_acc.item())\n",
    "    history['train_loss'].append(train_loss)\n",
    "    history['val_acc'].append(val_acc.item())\n",
    "    history['val_loss'].append(val_loss)\n",
    "    # saving model---------------------------------------\n",
    "    checkpoint = {\n",
    "    'epoch': epoch,\n",
    "    'model_state_dict': model.state_dict(),\n",
    "    'optimizer_state_dict': optimizer.state_dict()\n",
    "    }\n",
    "    torch.save(checkpoint, f\"checkpoint_epoch_{epoch}.pth\")\n",
    "    #----------------------------------------------------\n",
    "print(\"\\nTraining complete!\")\n",
    "final_acc, final_loss, all_predictions, all_true_labels = eval_model(\n",
    "    model,\n",
    "    val_data_loader,\n",
    "    loss_fn,\n",
    "    device\n",
    ")\n",
    "\n",
    "print(f\"\\nTest Accuracy: {final_acc:.4f}\")\n",
    "print(f\"Test Loss: {final_loss:.4f}\")\n",
    "\n",
    "# Generate a classification report\n",
    "# Target names should be 1-5 (converted back from 0-4 for display)\n",
    "target_names = [str(i+1) for i in range(NUM_CLASSES)]\n",
    "print(\"\\nClassification Report:\")\n",
    "# Ensure all_true_labels and all_predictions contain valid labels (0 to NUM_CLASSES-1)\n",
    "# and handle cases where a class might be missing in test_df due to small sample size\n",
    "from sklearn.preprocessing import LabelEncoder\n",
    "le = LabelEncoder()\n",
    "le.fit(np.unique(df['label'])) # Fit on all unique labels from the original df\n",
    "# Ensure all labels present in true/pred are handled for target_names display\n",
    "actual_target_names = [str(le.inverse_transform([i])[0] + 1) for i in np.unique(all_true_labels)]\n",
    "print(classification_report(all_true_labels, all_predictions, target_names=target_names, zero_division=0))"
   ]
  },
  {
   "cell_type": "markdown",
   "id": "e30301c9-17f5-4620-a421-a6b6af89f3bb",
   "metadata": {},
   "source": [
    "# Confusion Matrix and train/validation loss/accuracy plots"
   ]
  },
  {
   "cell_type": "code",
   "execution_count": 17,
   "id": "7d62eea9-4173-456b-b237-0679f715988c",
   "metadata": {},
   "outputs": [
    {
     "data": {
      "image/png": "[encoded data removed]",
      "text/plain": [
       "<Figure size 800x600 with 2 Axes>"
      ]
     },
     "metadata": {},
     "output_type": "display_data"
    },
    {
     "data": {
      "image/png": "[encoded data removed]",
      "text/plain": [
       "<Figure size 1200x500 with 2 Axes>"
      ]
     },
     "metadata": {},
     "output_type": "display_data"
    }
   ],
   "source": [
    "# Confusion Matrix\n",
    "cm = confusion_matrix(all_true_labels, all_predictions)\n",
    "plt.figure(figsize=(8, 6))\n",
    "sns.heatmap(cm, annot=True, fmt='d', cmap='Blues', xticklabels=target_names, yticklabels=target_names)\n",
    "plt.xlabel('Predicted Rating')\n",
    "plt.ylabel('True Rating')\n",
    "plt.title('Confusion Matrix')\n",
    "plt.show()\n",
    "\n",
    "# Plotting training history\n",
    "plt.figure(figsize=(12, 5))\n",
    "plt.subplot(1, 2, 1)\n",
    "plt.plot(range(1,EPOCHS+1),history['train_acc'], label='Train Accuracy')\n",
    "plt.plot(range(1,EPOCHS+1),history['val_acc'], label='Validation Accuracy')\n",
    "plt.title('Training and Validation Accuracy')\n",
    "plt.xlabel('Epoch')\n",
    "plt.ylabel('Accuracy')\n",
    "plt.legend()\n",
    "\n",
    "plt.subplot(1, 2, 2)\n",
    "plt.plot(range(1,EPOCHS+1),history['train_loss'], label='Train Loss')\n",
    "plt.plot(range(1,EPOCHS+1),history['val_loss'], label='Validation Loss')\n",
    "plt.title('Training and Validation Loss')\n",
    "plt.xlabel('Epoch')\n",
    "plt.ylabel('Loss')\n",
    "plt.legend()\n",
    "plt.tight_layout()\n",
    "plt.show()"
   ]
  },
  {
   "cell_type": "markdown",
   "id": "d156da38-1b1d-4f0c-9861-88ed064f0c36",
   "metadata": {},
   "source": [
    "# prediction"
   ]
  },
  {
   "cell_type": "code",
   "execution_count": 18,
   "id": "3c1f4352-ac78-41a4-8a68-af3185973269",
   "metadata": {},
   "outputs": [],
   "source": [
    "def predict_rating(text, model, tokenizer, max_len, device, num_classes):\n",
    "    model.eval()\n",
    "    encoding = tokenizer.encode_plus(\n",
    "        text,\n",
    "        add_special_tokens=True,\n",
    "        max_length=max_len,\n",
    "        return_token_type_ids=False,\n",
    "        padding='max_length',\n",
    "        return_attention_mask=True,\n",
    "        return_tensors='pt',\n",
    "        truncation=True\n",
    "    )\n",
    "\n",
    "    input_ids = encoding['input_ids'].to(device)\n",
    "    attention_mask = encoding['attention_mask'].to(device)\n",
    "\n",
    "    with torch.no_grad():\n",
    "        outputs = model(input_ids=input_ids, attention_mask=attention_mask)\n",
    "        logits = outputs.logits\n",
    "        softmax_probs = torch.nn.functional.softmax(logits, dim=1)\n",
    "        _, prediction = torch.max(softmax_probs, dim=1)\n",
    "\n",
    "    predicted_label = prediction.item()\n",
    "    # Convert back from 0-4 to 1-5 star rating\n",
    "    predicted_rating = predicted_label + 1\n",
    "\n",
    "    # Prepare probabilities for each star rating\n",
    "    probs_dict = {f\"{i+1} Star\": prob for i, prob in enumerate(softmax_probs.cpu().numpy()[0])}\n",
    "    return predicted_rating, probs_dict\n"
   ]
  },
  {
   "cell_type": "code",
   "execution_count": 19,
   "id": "798a53cb-9f97-4166-8d2e-14332f1d511b",
   "metadata": {},
   "outputs": [],
   "source": [
    "test_data = pd.read_csv('test_data.csv', low_memory=False)\n",
    "new_reviews = list(test_data['reviewText'].unique())\n",
    "predictions = []\n",
    "for review in new_reviews:\n",
    "    predicted_rating, probabilities = predict_rating(review, model, tokenizer, MAX_LEN, device, NUM_CLASSES)\n",
    "    predictions.append(predicted_rating)\n",
    "pred_df = pd.DataFrame({'predicted' : predictions})\n",
    "pred_df.to_csv('q2_submission.csv',index=False)"
   ]
  },
  {
   "cell_type": "code",
   "execution_count": null,
   "id": "3d899bb4-12e2-4ea2-b337-11c2b353aab7",
   "metadata": {},
   "outputs": [],
   "source": []
  }
 ],
 "metadata": {
  "kernelspec": {
   "display_name": "Python 3 (ipykernel)",
   "language": "python",
   "name": "python3"
  },
  "language_info": {
   "codemirror_mode": {
    "name": "ipython",
    "version": 3
   },
   "file_extension": ".py",
   "mimetype": "text/x-python",
   "name": "python",
   "nbconvert_exporter": "python",
   "pygments_lexer": "ipython3",
   "version": "3.12.9"
  }
 },
 "nbformat": 4,
 "nbformat_minor": 5
}
