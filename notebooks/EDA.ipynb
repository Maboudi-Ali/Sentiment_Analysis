{
 "cells": [
  {
   "cell_type": "code",
   "execution_count": 1,
   "id": "5e3abe79",
   "metadata": {},
   "outputs": [],
   "source": [
    "import pandas as pd\n",
    "import numpy as np\n",
    "import matplotlib.pyplot as plt\n",
    "import seaborn as sns"
   ]
  },
  {
   "cell_type": "code",
   "execution_count": 2,
   "id": "f98fffce",
   "metadata": {},
   "outputs": [],
   "source": [
    "sns.set_theme()"
   ]
  },
  {
   "cell_type": "code",
   "execution_count": 3,
   "id": "a541a410",
   "metadata": {},
   "outputs": [
    {
     "data": {
      "text/html": [
       "<div>\n",
       "<style scoped>\n",
       "    .dataframe tbody tr th:only-of-type {\n",
       "        vertical-align: middle;\n",
       "    }\n",
       "\n",
       "    .dataframe tbody tr th {\n",
       "        vertical-align: top;\n",
       "    }\n",
       "\n",
       "    .dataframe thead th {\n",
       "        text-align: right;\n",
       "    }\n",
       "</style>\n",
       "<table border=\"1\" class=\"dataframe\">\n",
       "  <thead>\n",
       "    <tr style=\"text-align: right;\">\n",
       "      <th></th>\n",
       "      <th>overall</th>\n",
       "      <th>vote</th>\n",
       "      <th>verified</th>\n",
       "      <th>reviewTime</th>\n",
       "      <th>reviewerID</th>\n",
       "      <th>asin</th>\n",
       "      <th>style</th>\n",
       "      <th>reviewerName</th>\n",
       "      <th>reviewText</th>\n",
       "      <th>summary</th>\n",
       "      <th>unixReviewTime</th>\n",
       "    </tr>\n",
       "  </thead>\n",
       "  <tbody>\n",
       "    <tr>\n",
       "      <th>0</th>\n",
       "      <td>2</td>\n",
       "      <td>NaN</td>\n",
       "      <td>False</td>\n",
       "      <td>2016-11-11</td>\n",
       "      <td>A2OSUEZJIN7BI</td>\n",
       "      <td>0511189877</td>\n",
       "      <td>NaN</td>\n",
       "      <td>Chris</td>\n",
       "      <td>I have an older URC-WR7 remote and thought thi...</td>\n",
       "      <td>Cannot Learn</td>\n",
       "      <td>1478822400</td>\n",
       "    </tr>\n",
       "    <tr>\n",
       "      <th>1</th>\n",
       "      <td>5</td>\n",
       "      <td>NaN</td>\n",
       "      <td>True</td>\n",
       "      <td>2016-06-06</td>\n",
       "      <td>A2NETQRG6JHIG7</td>\n",
       "      <td>0511189877</td>\n",
       "      <td>NaN</td>\n",
       "      <td>Qrysta White</td>\n",
       "      <td>First time I've EVER had a remote that needed ...</td>\n",
       "      <td>zero programming needed!  Miracle!?</td>\n",
       "      <td>1465171200</td>\n",
       "    </tr>\n",
       "    <tr>\n",
       "      <th>2</th>\n",
       "      <td>4</td>\n",
       "      <td>NaN</td>\n",
       "      <td>True</td>\n",
       "      <td>2016-03-10</td>\n",
       "      <td>A12JHGROAX49G7</td>\n",
       "      <td>0511189877</td>\n",
       "      <td>NaN</td>\n",
       "      <td>Linwood</td>\n",
       "      <td>Got them and only 2 of them worked. company ca...</td>\n",
       "      <td>Works Good and programs easy.</td>\n",
       "      <td>1457568000</td>\n",
       "    </tr>\n",
       "    <tr>\n",
       "      <th>3</th>\n",
       "      <td>5</td>\n",
       "      <td>NaN</td>\n",
       "      <td>True</td>\n",
       "      <td>2016-01-14</td>\n",
       "      <td>A1KV65E2TMMG6F</td>\n",
       "      <td>0511189877</td>\n",
       "      <td>NaN</td>\n",
       "      <td>Dane Williams</td>\n",
       "      <td>I got tired of the remote being on the wrong s...</td>\n",
       "      <td>Same as TWC remote</td>\n",
       "      <td>1452729600</td>\n",
       "    </tr>\n",
       "    <tr>\n",
       "      <th>4</th>\n",
       "      <td>5</td>\n",
       "      <td>NaN</td>\n",
       "      <td>True</td>\n",
       "      <td>2016-10-20</td>\n",
       "      <td>A280POPEWI0NSA</td>\n",
       "      <td>0594459451</td>\n",
       "      <td>NaN</td>\n",
       "      <td>Kristina H.</td>\n",
       "      <td>After purchasing cheap cords from another webs...</td>\n",
       "      <td>Good Quality Cord</td>\n",
       "      <td>1476921600</td>\n",
       "    </tr>\n",
       "  </tbody>\n",
       "</table>\n",
       "</div>"
      ],
      "text/plain": [
       "   overall vote  verified  reviewTime      reviewerID        asin style  \\\n",
       "0        2  NaN     False  2016-11-11   A2OSUEZJIN7BI  0511189877   NaN   \n",
       "1        5  NaN      True  2016-06-06  A2NETQRG6JHIG7  0511189877   NaN   \n",
       "2        4  NaN      True  2016-03-10  A12JHGROAX49G7  0511189877   NaN   \n",
       "3        5  NaN      True  2016-01-14  A1KV65E2TMMG6F  0511189877   NaN   \n",
       "4        5  NaN      True  2016-10-20  A280POPEWI0NSA  0594459451   NaN   \n",
       "\n",
       "    reviewerName                                         reviewText  \\\n",
       "0          Chris  I have an older URC-WR7 remote and thought thi...   \n",
       "1   Qrysta White  First time I've EVER had a remote that needed ...   \n",
       "2        Linwood  Got them and only 2 of them worked. company ca...   \n",
       "3  Dane Williams  I got tired of the remote being on the wrong s...   \n",
       "4    Kristina H.  After purchasing cheap cords from another webs...   \n",
       "\n",
       "                               summary  unixReviewTime  \n",
       "0                         Cannot Learn      1478822400  \n",
       "1  zero programming needed!  Miracle!?      1465171200  \n",
       "2        Works Good and programs easy.      1457568000  \n",
       "3                   Same as TWC remote      1452729600  \n",
       "4                    Good Quality Cord      1476921600  "
      ]
     },
     "execution_count": 3,
     "metadata": {},
     "output_type": "execute_result"
    }
   ],
   "source": [
    "train_data = pd.read_csv('../data/raw/train_data.csv', low_memory=False)\n",
    "train_data.head()"
   ]
  },
  {
   "cell_type": "code",
   "execution_count": 6,
   "id": "5138e1c4",
   "metadata": {},
   "outputs": [
    {
     "data": {
      "text/plain": [
       "(838944, 11)"
      ]
     },
     "execution_count": 6,
     "metadata": {},
     "output_type": "execute_result"
    }
   ],
   "source": [
    "train_data.shape"
   ]
  },
  {
   "cell_type": "markdown",
   "id": "80ac74ad",
   "metadata": {},
   "source": [
    "### Missing Values"
   ]
  },
  {
   "cell_type": "code",
   "execution_count": 5,
   "id": "87c3008e",
   "metadata": {},
   "outputs": [
    {
     "data": {
      "text/plain": [
       "overall                0\n",
       "vote              647476\n",
       "verified               0\n",
       "reviewTime             0\n",
       "reviewerID             0\n",
       "asin                   0\n",
       "style             348331\n",
       "reviewerName         227\n",
       "reviewText             0\n",
       "summary               76\n",
       "unixReviewTime         0\n",
       "dtype: int64"
      ]
     },
     "execution_count": 5,
     "metadata": {},
     "output_type": "execute_result"
    }
   ],
   "source": [
    "train_data.isna().sum()"
   ]
  },
  {
   "cell_type": "code",
   "execution_count": 8,
   "id": "492669e8",
   "metadata": {},
   "outputs": [
    {
     "data": {
      "text/plain": [
       "overall            0.000000\n",
       "vote              77.177499\n",
       "verified           0.000000\n",
       "reviewTime         0.000000\n",
       "reviewerID         0.000000\n",
       "asin               0.000000\n",
       "style             41.520173\n",
       "reviewerName       0.027058\n",
       "reviewText         0.000000\n",
       "summary            0.009059\n",
       "unixReviewTime     0.000000\n",
       "dtype: float64"
      ]
     },
     "execution_count": 8,
     "metadata": {},
     "output_type": "execute_result"
    }
   ],
   "source": [
    "# missing percentage\n",
    "train_data.isna().sum() / len(train_data) * 100"
   ]
  },
  {
   "cell_type": "markdown",
   "id": "16e5f664",
   "metadata": {},
   "source": [
    "### Reviews About Warranty/Guarantee"
   ]
  },
  {
   "cell_type": "markdown",
   "id": "0af3dada",
   "metadata": {},
   "source": [
    "#### Summary Column"
   ]
  },
  {
   "cell_type": "code",
   "execution_count": 4,
   "id": "870922cd",
   "metadata": {},
   "outputs": [
    {
     "data": {
      "text/plain": [
       "1350"
      ]
     },
     "execution_count": 4,
     "metadata": {},
     "output_type": "execute_result"
    }
   ],
   "source": [
    "# correct spelling\n",
    "train_data['summary'].str.contains('warranty').sum()"
   ]
  },
  {
   "cell_type": "code",
   "execution_count": 5,
   "id": "61783753",
   "metadata": {},
   "outputs": [
    {
     "data": {
      "text/plain": [
       "396"
      ]
     },
     "execution_count": 5,
     "metadata": {},
     "output_type": "execute_result"
    }
   ],
   "source": [
    "# correct spelling\n",
    "train_data['summary'].str.contains('Warranty').sum()"
   ]
  },
  {
   "cell_type": "code",
   "execution_count": 6,
   "id": "ee3e72e1",
   "metadata": {},
   "outputs": [
    {
     "data": {
      "text/plain": [
       "69"
      ]
     },
     "execution_count": 6,
     "metadata": {},
     "output_type": "execute_result"
    }
   ],
   "source": [
    "# correct spelling\n",
    "train_data['summary'].str.contains('guarantee').sum()"
   ]
  },
  {
   "cell_type": "code",
   "execution_count": 7,
   "id": "5a032e8f",
   "metadata": {},
   "outputs": [
    {
     "data": {
      "text/plain": [
       "33"
      ]
     },
     "execution_count": 7,
     "metadata": {},
     "output_type": "execute_result"
    }
   ],
   "source": [
    "# correct spelling\n",
    "train_data['summary'].str.contains('Guarantee').sum()"
   ]
  },
  {
   "cell_type": "markdown",
   "id": "873fc150",
   "metadata": {},
   "source": [
    "#### Review Text Column"
   ]
  },
  {
   "cell_type": "code",
   "execution_count": 12,
   "id": "1af37d81",
   "metadata": {},
   "outputs": [
    {
     "name": "stdout",
     "output_type": "stream",
     "text": [
      "14925\n",
      "864\n",
      "126\n",
      "2248\n"
     ]
    }
   ],
   "source": [
    "# correct spelling\n",
    "print(train_data['reviewText'].str.contains('warranty').sum())\n",
    "print(train_data['reviewText'].str.contains('Warranty').sum())\n",
    "print(train_data['reviewText'].str.contains('Guarantee').sum())\n",
    "print(train_data['reviewText'].str.contains('guarantee').sum())"
   ]
  },
  {
   "cell_type": "code",
   "execution_count": 13,
   "id": "8bf6247e",
   "metadata": {},
   "outputs": [
    {
     "name": "stdout",
     "output_type": "stream",
     "text": [
      "20\n"
     ]
    }
   ],
   "source": [
    "# mis-spelling\n",
    "print(train_data['reviewText'].str.contains('waranty').sum())\n"
   ]
  },
  {
   "cell_type": "code",
   "execution_count": 14,
   "id": "dbaadaa4",
   "metadata": {},
   "outputs": [
    {
     "name": "stdout",
     "output_type": "stream",
     "text": [
      "478\n"
     ]
    }
   ],
   "source": [
    "# mis-spelling\n",
    "print(train_data['reviewText'].str.contains('warranti').sum())\n"
   ]
  }
 ],
 "metadata": {
  "kernelspec": {
   "display_name": "quera",
   "language": "python",
   "name": "python3"
  },
  "language_info": {
   "codemirror_mode": {
    "name": "ipython",
    "version": 3
   },
   "file_extension": ".py",
   "mimetype": "text/x-python",
   "name": "python",
   "nbconvert_exporter": "python",
   "pygments_lexer": "ipython3",
   "version": "3.11.13"
  }
 },
 "nbformat": 4,
 "nbformat_minor": 5
}
